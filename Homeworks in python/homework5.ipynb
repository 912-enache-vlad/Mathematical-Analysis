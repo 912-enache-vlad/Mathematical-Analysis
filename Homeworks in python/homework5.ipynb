{
 "cells": [
  {
   "cell_type": "code",
   "execution_count": 1,
   "metadata": {
    "collapsed": true
   },
   "outputs": [
    {
     "data": {
      "text/plain": "interactive(children=(RadioButtons(description='Select Function:', options=('0.05*x^2', '10*sin(0.1*x+10)', '0…",
      "application/vnd.jupyter.widget-view+json": {
       "version_major": 2,
       "version_minor": 0,
       "model_id": "15c42cccea3d4dd6862264941e37c2dd"
      }
     },
     "metadata": {},
     "output_type": "display_data"
    },
    {
     "data": {
      "text/plain": "interactive(children=(FloatSlider(value=1.0, description='niu', max=11.0), Output()), _dom_classes=('widget-in…",
      "application/vnd.jupyter.widget-view+json": {
       "version_major": 2,
       "version_minor": 0,
       "model_id": "a1d42f8059c94f7a9b1d38a2580d614b"
      }
     },
     "metadata": {},
     "output_type": "display_data"
    },
    {
     "data": {
      "text/plain": "interactive(children=(IntSlider(value=0, description='n', max=300), Output()), _dom_classes=('widget-interact'…",
      "application/vnd.jupyter.widget-view+json": {
       "version_major": 2,
       "version_minor": 0,
       "model_id": "b64d98e217ef48dd9e796da497f56152"
      }
     },
     "metadata": {},
     "output_type": "display_data"
    }
   ],
   "source": [
    "import matplotlib.pyplot as plt\n",
    "import numpy as np\n",
    "from ipywidgets import interact,widgets\n",
    "\n",
    "x=np.linspace(-100,100,10000)\n",
    "\n",
    "y1=np.vectorize(lambda t:0.05*(t**2))\n",
    "y1_derr=np.vectorize(lambda t:0.1*(t))\n",
    "\n",
    "y2=np.vectorize(lambda t:10*np.sin(0.1*t+10))\n",
    "y2_derr=np.vectorize(lambda t:np.cos(0.1*t+10))\n",
    "\n",
    "y3=np.vectorize(lambda t:0.0001*(t**4)-0.2*(t**2)+0.001*(t**3))\n",
    "y3_derr=np.vectorize(lambda t:0.0004*(t**3)-0.4*t+0.003*(t**2))\n",
    "\n",
    "y=[y1]\n",
    "y_derr=[y1_derr]\n",
    "label='0.05*x^2'\n",
    "\n",
    "n_slider=widgets.IntSlider(min=0, max=300, step=1, value=0)\n",
    "niu_slider=widgets.FloatSlider(min=0, max=11, step=0.1, value=1)\n",
    "\n",
    "x_n=[40]\n",
    "def generate_sequence(niu):\n",
    "    global x_n\n",
    "    x_n=[40]\n",
    "    for i in range(1,301):\n",
    "        x_n.append(x_n[i-1]-niu*y_derr[0](x_n[i-1]))\n",
    "    if n_slider.value==0:\n",
    "        n_slider.value=1\n",
    "    n_slider.value=0\n",
    "\n",
    "def set_function(x):\n",
    "    global label\n",
    "    label=x\n",
    "    match x:\n",
    "        case '0.05*x^2':\n",
    "            y[0]=y1\n",
    "            y_derr[0]=y1_derr\n",
    "        case '10*sin(0.1*x+10)':\n",
    "            y[0]=y2\n",
    "            y_derr[0]=y2_derr\n",
    "        case '0.0001x^4-0.001*x^3+*0.2*x^2':\n",
    "            y[0]=y3\n",
    "            y_derr[0]=y3_derr\n",
    "    niu(niu_slider.value)\n",
    "    n_slider.value=0\n",
    "\n",
    "\n",
    "def plot_x(n):\n",
    "    plt.style.use('_mpl-gallery')\n",
    "    plt.figure(figsize=(15,15))\n",
    "\n",
    "\n",
    "    plt.axis('square')\n",
    "    plt.xticks([i for i in range(-100,101,10)])\n",
    "    plt.yticks([i for i in range(-100,101,10)])\n",
    "    plt.plot(x,y[0](x),label=label)\n",
    "    plt.plot(x_n[n],y[0](x_n[n]),\"ro\",label=\"x_n\")\n",
    "    plt.legend()\n",
    "    plt.show()\n",
    "\n",
    "\n",
    "\n",
    "function=interact(set_function,x=widgets.RadioButtons(\n",
    "    options=['0.05*x^2', '10*sin(0.1*x+10)', '0.0001x^4-0.001*x^3+*0.2*x^2'],\n",
    "    value='0.05*x^2',\n",
    "    description='Select Function:',\n",
    "    disabled=False\n",
    "))\n",
    "\n",
    "\n",
    "niu=interact(generate_sequence,niu=niu_slider)\n",
    "n=interact(plot_x,n=n_slider)"
   ]
  }
 ],
 "metadata": {
  "kernelspec": {
   "display_name": "Python 3",
   "language": "python",
   "name": "python3"
  },
  "language_info": {
   "codemirror_mode": {
    "name": "ipython",
    "version": 2
   },
   "file_extension": ".py",
   "mimetype": "text/x-python",
   "name": "python",
   "nbconvert_exporter": "python",
   "pygments_lexer": "ipython2",
   "version": "2.7.6"
  }
 },
 "nbformat": 4,
 "nbformat_minor": 0
}
